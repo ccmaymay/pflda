{
 "metadata": {
  "name": ""
 },
 "nbformat": 3,
 "nbformat_minor": 0,
 "worksheets": [
  {
   "cells": [
    {
     "cell_type": "code",
     "collapsed": false,
     "input": [
      "import numpy as np\n",
      "import scipy.special as sp\n",
      "from numpy.random import dirichlet\n",
      "import matplotlib.pyplot as plt\n",
      "\n",
      "n = 1000\n",
      "alpha = np.array([0.1, 0.5, 0.2])\n",
      "\n",
      "# take n random samples of a Dirichlet r.v. with parameter alpha\n",
      "x = dirichlet(alpha, n)\n",
      "x\n",
      "\n",
      "x_2d = x[:,0]\n",
      "y_2d = x[:,1]\n",
      "x_mg, y_mg = np.meshgrid(x_2d, y_2d)\n",
      "x"
     ],
     "language": "python",
     "metadata": {},
     "outputs": [
      {
       "metadata": {},
       "output_type": "pyout",
       "prompt_number": 76,
       "text": [
        "array([[  5.31441064e-01,   4.43387552e-01,   2.51713837e-02],\n",
        "       [  3.33096863e-08,   9.99942925e-01,   5.70416489e-05],\n",
        "       [  5.83513741e-11,   8.72644139e-01,   1.27355861e-01],\n",
        "       ..., \n",
        "       [  1.21005354e-04,   9.89358639e-01,   1.05203556e-02],\n",
        "       [  8.28620933e-02,   2.38766218e-01,   6.78371689e-01],\n",
        "       [  1.88800915e-01,   7.23617944e-01,   8.75811403e-02]])"
       ]
      }
     ],
     "prompt_number": 76
    },
    {
     "cell_type": "code",
     "collapsed": false,
     "input": [
      "# take log of each coordinate of each sample\n",
      "log_x = np.log(x)"
     ],
     "language": "python",
     "metadata": {},
     "outputs": [],
     "prompt_number": 58
    },
    {
     "cell_type": "code",
     "collapsed": false,
     "input": [
      "# estimate E[X] from sample\n",
      "E_X_hat = np.mean(x, axis=0)\n",
      "E_X_hat"
     ],
     "language": "python",
     "metadata": {},
     "outputs": [
      {
       "metadata": {},
       "output_type": "pyout",
       "prompt_number": 59,
       "text": [
        "array([ 0.12523264,  0.62332357,  0.25144379])"
       ]
      }
     ],
     "prompt_number": 59
    },
    {
     "cell_type": "code",
     "collapsed": false,
     "input": [
      "# compute true mean E[X] (derived from Dirichlet distribution)\n",
      "E_X = alpha / np.sum(alpha)\n",
      "E_X"
     ],
     "language": "python",
     "metadata": {},
     "outputs": [
      {
       "metadata": {},
       "output_type": "pyout",
       "prompt_number": 60,
       "text": [
        "array([ 0.125,  0.625,  0.25 ])"
       ]
      }
     ],
     "prompt_number": 60
    },
    {
     "cell_type": "code",
     "collapsed": false,
     "input": [
      "# estimate log[E[X]] from sample\n",
      "np.log(E_X_hat)"
     ],
     "language": "python",
     "metadata": {},
     "outputs": [
      {
       "metadata": {},
       "output_type": "pyout",
       "prompt_number": 61,
       "text": [
        "array([-2.07758218, -0.47268951, -1.38053581])"
       ]
      }
     ],
     "prompt_number": 61
    },
    {
     "cell_type": "code",
     "collapsed": false,
     "input": [
      "# compute log of true mean E[X]\n",
      "np.log(E_X)"
     ],
     "language": "python",
     "metadata": {},
     "outputs": [
      {
       "metadata": {},
       "output_type": "pyout",
       "prompt_number": 62,
       "text": [
        "array([-2.07944154, -0.47000363, -1.38629436])"
       ]
      }
     ],
     "prompt_number": 62
    },
    {
     "cell_type": "code",
     "collapsed": false,
     "input": [
      "# estimate E[log[X]] from sample\n",
      "E_log_X_hat = np.mean(log_x, axis=0)\n",
      "E_log_X_hat"
     ],
     "language": "python",
     "metadata": {},
     "outputs": [
      {
       "metadata": {},
       "output_type": "pyout",
       "prompt_number": 63,
       "text": [
        "array([-9.46785556, -1.00551869, -4.31018535])"
       ]
      }
     ],
     "prompt_number": 63
    },
    {
     "cell_type": "code",
     "collapsed": false,
     "input": [
      "# compute true mean of log[X], i.e., E[log[X]]\n",
      "E_log_X = sp.psi(alpha) - sp.psi(np.sum(alpha))\n",
      "E_log_X"
     ],
     "language": "python",
     "metadata": {},
     "outputs": [
      {
       "metadata": {},
       "output_type": "pyout",
       "prompt_number": 64,
       "text": [
        "array([-9.45874637, -0.99850146, -4.32403133])"
       ]
      }
     ],
     "prompt_number": 64
    }
   ],
   "metadata": {}
  }
 ]
}